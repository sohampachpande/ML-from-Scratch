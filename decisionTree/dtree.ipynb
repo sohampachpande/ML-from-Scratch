{
 "cells": [
  {
   "cell_type": "code",
   "execution_count": 1,
   "metadata": {},
   "outputs": [],
   "source": [
    "import pandas as pd\n",
    "import numpy as np"
   ]
  },
  {
   "cell_type": "code",
   "execution_count": 2,
   "metadata": {},
   "outputs": [],
   "source": [
    "iris = pd.read_csv(\"/home/soham/Coding/ML-from-scratch/dataset/iris_data.csv\", header=None, index_col = False )\n",
    "iris = iris.sample(frac=1).reset_index(drop=True)"
   ]
  },
  {
   "cell_type": "code",
   "execution_count": null,
   "metadata": {},
   "outputs": [],
   "source": []
  },
  {
   "cell_type": "code",
   "execution_count": 3,
   "metadata": {},
   "outputs": [],
   "source": [
    "# Code to implement Node class for Decision Tree implementation\n",
    "\n",
    "class Node:\n",
    "    \"\"\"\n",
    "    Decision Nodes which are split into two nodes\n",
    "    \"\"\"\n",
    "    def __init__(self, featureIndex, featureSplitValue, giniImpurity): #, data, leftNode, rightNode):\n",
    "        self.featureIndex = featureIndex\n",
    "        self.featureSplitValue = featureSplitValue\n",
    "        self.giniImpurity = giniImpurity\n",
    "        self.leftNode = None\n",
    "        self.rightNode = None\n",
    "        \n",
    "    def setChildren(self, leftNode, rightNode):\n",
    "        self.leftNode = leftNode\n",
    "        self.rightNode = rightNode\n",
    "        \n",
    "    def getGini(self):\n",
    "        return self.giniImpurity\n",
    "\n",
    "    def getNextNode(self, testData):\n",
    "        if testData[1][self.featureIndex]<=self.featureSplitValue:\n",
    "            return self.leftNode\n",
    "        else:\n",
    "            return self.rightNode\n",
    "\n",
    "class LeafNode:\n",
    "    def __init__(self, label):\n",
    "        self.label = label\n",
    "\n",
    "    def getLabel(self):\n",
    "        return self.label\n"
   ]
  },
  {
   "cell_type": "code",
   "execution_count": 10,
   "metadata": {},
   "outputs": [],
   "source": [
    "class dTree:\n",
    "    def __init__(self, data, maxDepth, minSizeLeafNode):\n",
    "\n",
    "        self.data = data\n",
    "        self.maxDepth = maxDepth\n",
    "        self.minSizeLeafNode = minSizeLeafNode\n",
    "        \n",
    "        self.root = None\n",
    "        self.noFeatures = data.shape[1]-1\n",
    "        self.classLabels = data[data.shape[1]-1].unique().tolist()\n",
    "    \n",
    "    # Function to calculate gini index for a split comprising of two groups\n",
    "    def giniIndex(self, splits):\n",
    "        gini_index = 0.0\n",
    "        totalSampleSize = len(splits[0])+len(splits[1])\n",
    "        \n",
    "        for split in splits:\n",
    "            \n",
    "            if len(split)==0:\n",
    "                continue\n",
    "                \n",
    "            score_split = 1\n",
    "            for label in self.classLabels:\n",
    "                score_split -= (len(split[split[self.noFeatures]==label])/len(split))**2\n",
    "            gini_index += score_split*(len(split)*1.0/totalSampleSize)\n",
    "        \n",
    "        return gini_index\n",
    "        \n",
    "    # Partition the data into 2 groups\n",
    "    # split1 is all rows where row[featureIndex] less than or equal to featureSplit\n",
    "    def getPartition(self, data, featureIndex, featureSplit):\n",
    "        return data[data[featureIndex]<=featureSplit], data[data[featureIndex]>featureSplit]\n",
    "    \n",
    "    # Iterate through all possible splits of data and find the optimum split\n",
    "    def getSplit(self, data):\n",
    "        # define paramters to store optimum values\n",
    "        optFeatureIndex, optSplitValue, optSplitGroup = None, None, None\n",
    "        optGiniIndex = float('inf')\n",
    "        \n",
    "        for featureIndex in range(self.noFeatures):\n",
    "            for row in data.iterrows():\n",
    "                splitValue = row[1][featureIndex]\n",
    "                split1, split2 = self.getPartition(data, featureIndex, splitValue)\n",
    "                                \n",
    "                gini_ = self.giniIndex([split1, split2])\n",
    "                \n",
    "                if gini_<optGiniIndex:\n",
    "                    optFeatureIndex, optSplitValue, optSplitGroup = featureIndex, splitValue, [split1, split2]\n",
    "                    optGiniIndex = gini_\n",
    "                    \n",
    "        return optGiniIndex, optFeatureIndex, optSplitValue, optSplitGroup\n",
    "    \n",
    "    def splitProcess(self, node, depth, split):\n",
    "        \n",
    "        nodeGini, nodeFeatureIndex, nodeSplitValue, nodeSplitGroup = None,None,None,None\n",
    "        \n",
    "        if ((len(split[0])==0) or (len(split[1])==0)):\n",
    "            mergedSplit = pd.concat([split[0], split[1]], ignore_index=True)\n",
    "            leftChild = rightChild = LeafNode(mergedSplit.mode(axis=0, dropna=True)[self.noFeatures].tolist()[0])\n",
    "            node.setChildren(leftChild, rightChild)\n",
    "            return\n",
    "        \n",
    "        # Stop if max depth is reached\n",
    "        if depth==self.maxDepth:\n",
    "            leftChild = LeafNode(split[0].mode(axis=0, dropna=True)[self.noFeatures].tolist()[0])\n",
    "            rightChild = LeafNode(split[1].mode(axis=0, dropna=True)[self.noFeatures].tolist()[0])\n",
    "            node.setChildren(leftChild, rightChild)\n",
    "            return\n",
    "        \n",
    "        # build the left subtree\n",
    "        if len(split[0])<self.minSizeLeafNode:\n",
    "            leftChild = LeafNode(split[0].mode(axis=0, dropna=True)[self.noFeatures].tolist()[0])\n",
    "        else:\n",
    "            nodeGini, nodeFeatureIndex, nodeSplitValue, nodeSplitGroup = self.getSplit(split[0])\n",
    "            leftChild = Node(nodeFeatureIndex, nodeSplitValue, nodeGini)\n",
    "            self.splitProcess(leftChild, depth+1, nodeSplitGroup)\n",
    "            \n",
    "        # build the right subtree\n",
    "        if len(split[1])<self.minSizeLeafNode:\n",
    "            rightChild = LeafNode(split[1].mode(axis=0, dropna=True)[self.noFeatures].tolist()[0])\n",
    "        else:\n",
    "            nodeGini, nodeFeatureIndex, nodeSplitValue, nodeSplitGroup = self.getSplit(split[1])\n",
    "            rightChild = Node(nodeFeatureIndex, nodeSplitValue, nodeGini)\n",
    "            self.splitProcess(rightChild, depth+1, nodeSplitGroup)\n",
    "        \n",
    "        node.setChildren(leftChild, rightChild)\n",
    "    \n",
    "    def buildTree(self):\n",
    "        rootGini, rootFeatureIndex, rootSplitValue, rootSplitGroup = self.getSplit(self.data);\n",
    "        self.root = Node(rootFeatureIndex, rootSplitValue, rootGini)\n",
    "        self.splitProcess(self.root, 1, rootSplitGroup)\n",
    "        \n",
    "    def predict(self, testData):\n",
    "        result = []\n",
    "        for row in testData.iterrows():\n",
    "            temp = self.root\n",
    "            while(type(temp)==Node):\n",
    "                temp = temp.getNextNode(row)\n",
    "            result.append(temp.getLabel())\n",
    "        return pd.DataFrame(result)\n",
    "    \n",
    "    def predictAccuracy(self, testData, testDataTruth):\n",
    "        result = []\n",
    "        for row in testData.iterrows():\n",
    "            temp = self.root\n",
    "            while(type(temp)==Node):\n",
    "                temp = temp.getNextNode(row)\n",
    "            result.append(temp.getLabel())\n",
    "        prediction = pd.DataFrame(result)\n",
    "        \n",
    "        accuracyCounts = np.unique((prediction == testDataTruth)[0].tolist(), return_counts=True)\n",
    "        \n",
    "        countTrue = 0\n",
    "        countTotal = 0\n",
    "        for i,c in zip(accuracyCounts[0].tolist(), accuracyCounts[1].tolist()):\n",
    "            if i==True:\n",
    "                countTrue += c\n",
    "            countTotal += c\n",
    "        \n",
    "        return countTrue/countTotal"
   ]
  },
  {
   "cell_type": "code",
   "execution_count": 11,
   "metadata": {},
   "outputs": [],
   "source": [
    "irisTrain = iris.loc[:0.7*len(iris),]\n",
    "irisTest = iris.loc[0.7*len(iris):,:4-1].reset_index(drop=True)\n",
    "irisTestTruth = iris.loc[0.7*len(iris):, 4:].rename(columns = {4:0}).reset_index(drop=True)"
   ]
  },
  {
   "cell_type": "code",
   "execution_count": 12,
   "metadata": {},
   "outputs": [],
   "source": [
    "tree = dTree(irisTrain,5,5)"
   ]
  },
  {
   "cell_type": "code",
   "execution_count": 13,
   "metadata": {
    "scrolled": true
   },
   "outputs": [],
   "source": [
    "tree.buildTree()"
   ]
  },
  {
   "cell_type": "code",
   "execution_count": 14,
   "metadata": {},
   "outputs": [],
   "source": [
    "irisTestPredicted = tree.predict(irisTest)"
   ]
  },
  {
   "cell_type": "code",
   "execution_count": 15,
   "metadata": {},
   "outputs": [
    {
     "data": {
      "text/plain": [
       "0.9333333333333333"
      ]
     },
     "execution_count": 15,
     "metadata": {},
     "output_type": "execute_result"
    }
   ],
   "source": [
    "tree.predictAccuracy(irisTest, irisTestTruth)"
   ]
  },
  {
   "cell_type": "code",
   "execution_count": 16,
   "metadata": {},
   "outputs": [],
   "source": [
    "accuracyCounts = np.unique((irisTestPredicted == irisTestTruth)[0].tolist(), return_counts=True)"
   ]
  },
  {
   "cell_type": "code",
   "execution_count": null,
   "metadata": {},
   "outputs": [],
   "source": []
  }
 ],
 "metadata": {
  "kernelspec": {
   "display_name": "Python 3",
   "language": "python",
   "name": "python3"
  },
  "language_info": {
   "codemirror_mode": {
    "name": "ipython",
    "version": 3
   },
   "file_extension": ".py",
   "mimetype": "text/x-python",
   "name": "python",
   "nbconvert_exporter": "python",
   "pygments_lexer": "ipython3",
   "version": "3.6.8"
  }
 },
 "nbformat": 4,
 "nbformat_minor": 2
}
