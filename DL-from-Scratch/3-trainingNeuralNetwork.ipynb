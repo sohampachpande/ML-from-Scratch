{
 "cells": [
  {
   "cell_type": "markdown",
   "metadata": {},
   "source": [
    "### Load Data"
   ]
  },
  {
   "cell_type": "code",
   "execution_count": 2,
   "metadata": {},
   "outputs": [],
   "source": [
    "import torch\n",
    "import torchvision\n",
    "from torchvision import transforms, datasets\n",
    "import matplotlib.pyplot as plt"
   ]
  },
  {
   "cell_type": "code",
   "execution_count": 18,
   "metadata": {},
   "outputs": [],
   "source": [
    "train = datasets.MNIST('datasets/MNIST', train=True,\n",
    "                       transform=transforms.Compose([\n",
    "                           transforms.ToTensor()\n",
    "                       ]))\n",
    "\n",
    "test = datasets.MNIST('datasets/MNIST', train=False,\n",
    "                       transform=transforms.Compose([\n",
    "                           transforms.ToTensor()\n",
    "                       ]))\n",
    "\n",
    "trainSet = torch.utils.data.DataLoader(train, batch_size=10, shuffle=True)\n",
    "testSet = torch.utils.data.DataLoader(test, batch_size=10, shuffle=True)"
   ]
  },
  {
   "cell_type": "markdown",
   "metadata": {},
   "source": [
    "#### Import modules to build Neural Network\n"
   ]
  },
  {
   "cell_type": "code",
   "execution_count": 19,
   "metadata": {},
   "outputs": [],
   "source": [
    "import torch.nn as nn\n",
    "import torch.nn.functional as F"
   ]
  },
  {
   "cell_type": "markdown",
   "metadata": {},
   "source": [
    "### build NN"
   ]
  },
  {
   "cell_type": "code",
   "execution_count": 20,
   "metadata": {},
   "outputs": [],
   "source": [
    "class Net(nn.Module):\n",
    "    \n",
    "    def __init__(self):\n",
    "        super().__init__()\n",
    "        \n",
    "        # nn.linear - fully linear layer, arguments are (inputSize, outputSize)\n",
    "        self.fullyConnectedLayer1 = nn.Linear(in_features = 28*28, out_features = 128) \n",
    "        self.fullyConnectedLayer2 = nn.Linear(128, 64)\n",
    "        self.fullyConnectedLayer3 = nn.Linear(64, 32)\n",
    "        self.fullyConnectedLayer4 = nn.Linear(32, 10)\n",
    "    \n",
    "    # forward propagation\n",
    "    def forward(self, x):\n",
    "        x = F.relu(self.fullyConnectedLayer1(x))\n",
    "        x = F.relu(self.fullyConnectedLayer2(x))\n",
    "        x = F.relu(self.fullyConnectedLayer3(x))\n",
    "        \n",
    "        # output layer\n",
    "        x = self.fullyConnectedLayer4(x)\n",
    "        x = F.log_softmax(x, dim=1) \n",
    "        \n",
    "        return x"
   ]
  },
  {
   "cell_type": "code",
   "execution_count": 21,
   "metadata": {},
   "outputs": [
    {
     "name": "stdout",
     "output_type": "stream",
     "text": [
      "Net(\n",
      "  (fullyConnectedLayer1): Linear(in_features=784, out_features=128, bias=True)\n",
      "  (fullyConnectedLayer2): Linear(in_features=128, out_features=64, bias=True)\n",
      "  (fullyConnectedLayer3): Linear(in_features=64, out_features=32, bias=True)\n",
      "  (fullyConnectedLayer4): Linear(in_features=32, out_features=10, bias=True)\n",
      ")\n"
     ]
    }
   ],
   "source": [
    "net = Net()\n",
    "print(net)"
   ]
  },
  {
   "cell_type": "markdown",
   "metadata": {},
   "source": [
    "### training Neural Net"
   ]
  },
  {
   "cell_type": "markdown",
   "metadata": {},
   "source": [
    "#### Import modules for optimiser"
   ]
  },
  {
   "cell_type": "code",
   "execution_count": 22,
   "metadata": {},
   "outputs": [],
   "source": [
    "import torch.optim as optim"
   ]
  },
  {
   "cell_type": "code",
   "execution_count": 27,
   "metadata": {},
   "outputs": [
    {
     "name": "stdout",
     "output_type": "stream",
     "text": [
      "tensor(0.3767, grad_fn=<NllLossBackward>)\n",
      "tensor(0.0007, grad_fn=<NllLossBackward>)\n"
     ]
    }
   ],
   "source": [
    "optimizer = optim.Adam(net.parameters(), lr=1e-3)\n",
    "epochs = 2\n",
    "\n",
    "for epoch in range(epochs):\n",
    "    for data in trainSet:\n",
    "        # data = batch\n",
    "        X, y = data[0], data[1]\n",
    "        \n",
    "        # Pytorch accumulates gradients for every backward pass. We manually reset it every epoch\n",
    "        net.zero_grad()\n",
    "        \n",
    "        output = net(X.view(-1,28*28))\n",
    "        loss = F.nll_loss(output, y)\n",
    "        \n",
    "        # backpropagate\n",
    "        loss.backward()\n",
    "        \n",
    "        # Update parameters\n",
    "        optimizer.step()\n",
    "    print(loss)"
   ]
  },
  {
   "cell_type": "markdown",
   "metadata": {},
   "source": [
    "### Test"
   ]
  },
  {
   "cell_type": "code",
   "execution_count": 30,
   "metadata": {},
   "outputs": [
    {
     "name": "stdout",
     "output_type": "stream",
     "text": [
      "Accuracy: 0.972\n"
     ]
    }
   ],
   "source": [
    "accurateClassification = 0\n",
    "total = 0\n",
    "\n",
    "# Do not calculate gradients\n",
    "with torch.no_grad():\n",
    "    for data in testSet:\n",
    "        X,y = data\n",
    "        output = net(X.view(-1,28*28))\n",
    "        \n",
    "        for idx, i in enumerate(output):\n",
    "            if torch.argmax(i) == y[idx]:\n",
    "                accurateClassification += 1\n",
    "            total += 1\n",
    "print(\"Accuracy: {}\".format(round(accurateClassification/total,2)))"
   ]
  },
  {
   "cell_type": "code",
   "execution_count": 34,
   "metadata": {},
   "outputs": [
    {
     "data": {
      "image/png": "[encoded data removed]",
      "text/plain": [
       "<Figure size 432x288 with 1 Axes>"
      ]
     },
     "metadata": {
      "needs_background": "light"
     },
     "output_type": "display_data"
    },
    {
     "name": "stdout",
     "output_type": "stream",
     "text": [
      "Prediction:  tensor(8)\n"
     ]
    }
   ],
   "source": [
    "plt.imshow(X[0].view(28,28))\n",
    "plt.show()\n",
    "print(\"Prediction: \", y[0])"
   ]
  },
  {
   "cell_type": "code",
   "execution_count": null,
   "metadata": {},
   "outputs": [],
   "source": []
  }
 ],
 "metadata": {
  "kernelspec": {
   "display_name": "Python 3",
   "language": "python",
   "name": "python3"
  },
  "language_info": {
   "codemirror_mode": {
    "name": "ipython",
    "version": 3
   },
   "file_extension": ".py",
   "mimetype": "text/x-python",
   "name": "python",
   "nbconvert_exporter": "python",
   "pygments_lexer": "ipython3",
   "version": "3.7.7"
  }
 },
 "nbformat": 4,
 "nbformat_minor": 4
}
