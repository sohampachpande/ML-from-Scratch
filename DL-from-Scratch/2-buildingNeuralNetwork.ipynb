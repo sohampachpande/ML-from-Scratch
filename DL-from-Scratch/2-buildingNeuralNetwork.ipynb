{
 "cells": [
  {
   "cell_type": "markdown",
   "metadata": {},
   "source": [
    "### Load Data"
   ]
  },
  {
   "cell_type": "code",
   "execution_count": 1,
   "metadata": {},
   "outputs": [],
   "source": [
    "import torch\n",
    "import torchvision\n",
    "from torchvision import transforms, datasets\n",
    "import matplotlib.pyplot as plt"
   ]
  },
  {
   "cell_type": "code",
   "execution_count": 2,
   "metadata": {},
   "outputs": [],
   "source": [
    "train = datasets.MNIST('datasets/MNIST', train=True,\n",
    "                       transform=transforms.Compose([\n",
    "                           transforms.ToTensor()\n",
    "                       ]))\n",
    "\n",
    "test = datasets.MNIST('datasets/MNIST', train=False,\n",
    "                       transform=transforms.Compose([\n",
    "                           transforms.ToTensor()\n",
    "                       ]))\n",
    "\n",
    "trainSet = torch.utils.data.DataLoader(train, batch_size=10, shuffle=True)\n",
    "testSet = torch.utils.data.DataLoader(test, batch_size=10, shuffle=True)"
   ]
  },
  {
   "cell_type": "markdown",
   "metadata": {},
   "source": [
    "#### Import modules to build Neural Network\n"
   ]
  },
  {
   "cell_type": "code",
   "execution_count": 4,
   "metadata": {},
   "outputs": [],
   "source": [
    "import torch.nn as nn\n",
    "import torch.nn.functional as F"
   ]
  },
  {
   "cell_type": "markdown",
   "metadata": {},
   "source": [
    "### build NN"
   ]
  },
  {
   "cell_type": "code",
   "execution_count": 49,
   "metadata": {},
   "outputs": [],
   "source": [
    "class Net(nn.Module):\n",
    "    \n",
    "    def __init__(self):\n",
    "        super().__init__()\n",
    "        \n",
    "        # nn.linear - fully linear layer, arguments are (inputSize, outputSize)\n",
    "        self.fullyConnectedLayer1 = nn.Linear(in_features = 28*28, out_features = 128) \n",
    "        self.fullyConnectedLayer2 = nn.Linear(128, 64)\n",
    "        self.fullyConnectedLayer3 = nn.Linear(64, 32)\n",
    "        self.fullyConnectedLayer4 = nn.Linear(32, 10)\n",
    "    \n",
    "    # forward propagation\n",
    "    def forward(self, x):\n",
    "        x = F.relu(self.fullyConnectedLayer1(x))\n",
    "        x = F.relu(self.fullyConnectedLayer2(x))\n",
    "        x = F.relu(self.fullyConnectedLayer3(x))\n",
    "        \n",
    "        # output layer\n",
    "        x = self.fullyConnectedLayer4(x)\n",
    "        x = F.log_softmax(x, dim=1) \n",
    "        \n",
    "        return x"
   ]
  },
  {
   "cell_type": "code",
   "execution_count": 50,
   "metadata": {},
   "outputs": [
    {
     "name": "stdout",
     "output_type": "stream",
     "text": [
      "Net(\n",
      "  (fullyConnectedLayer1): Linear(in_features=784, out_features=128, bias=True)\n",
      "  (fullyConnectedLayer2): Linear(in_features=128, out_features=64, bias=True)\n",
      "  (fullyConnectedLayer3): Linear(in_features=64, out_features=32, bias=True)\n",
      "  (fullyConnectedLayer4): Linear(in_features=32, out_features=10, bias=True)\n",
      ")\n"
     ]
    }
   ],
   "source": [
    "net = Net()\n",
    "print(net)"
   ]
  },
  {
   "cell_type": "markdown",
   "metadata": {},
   "source": [
    "### Passing Data through (naive) Neural Net"
   ]
  },
  {
   "cell_type": "code",
   "execution_count": 47,
   "metadata": {},
   "outputs": [],
   "source": [
    "X = torch.rand((28,28))\n",
    "X = X.view(1, 28*28)\n",
    "\n",
    "out = net(X)"
   ]
  },
  {
   "cell_type": "code",
   "execution_count": 48,
   "metadata": {},
   "outputs": [
    {
     "data": {
      "text/plain": [
       "tensor([[-2.1596, -2.2860, -2.3641, -2.4217, -2.4665, -2.1499, -2.5289, -2.2929,\n",
       "         -2.2058, -2.2266]], grad_fn=<LogSoftmaxBackward>)"
      ]
     },
     "execution_count": 48,
     "metadata": {},
     "output_type": "execute_result"
    }
   ],
   "source": [
    "out"
   ]
  },
  {
   "cell_type": "code",
   "execution_count": null,
   "metadata": {},
   "outputs": [],
   "source": []
  }
 ],
 "metadata": {
  "kernelspec": {
   "display_name": "Python 3",
   "language": "python",
   "name": "python3"
  },
  "language_info": {
   "codemirror_mode": {
    "name": "ipython",
    "version": 3
   },
   "file_extension": ".py",
   "mimetype": "text/x-python",
   "name": "python",
   "nbconvert_exporter": "python",
   "pygments_lexer": "ipython3",
   "version": "3.7.7"
  }
 },
 "nbformat": 4,
 "nbformat_minor": 4
}
