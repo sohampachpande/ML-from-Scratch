{
 "cells": [
  {
   "cell_type": "code",
   "execution_count": 2,
   "metadata": {},
   "outputs": [],
   "source": [
    "import numpy as np\n",
    "import pandas as pd"
   ]
  },
  {
   "cell_type": "code",
   "execution_count": 3,
   "metadata": {},
   "outputs": [],
   "source": [
    "realEstate = pd.read_csv(\"/home/soham/Coding/ML-from-scratch/dataset/realestate.csv\", header=None, index_col=False)"
   ]
  },
  {
   "cell_type": "code",
   "execution_count": 4,
   "metadata": {},
   "outputs": [],
   "source": [
    "realEstate = realEstate.sample(frac=1).reset_index(drop=True)"
   ]
  },
  {
   "cell_type": "code",
   "execution_count": 5,
   "metadata": {},
   "outputs": [
    {
     "data": {
      "text/html": [
       "<div>\n",
       "<style scoped>\n",
       "    .dataframe tbody tr th:only-of-type {\n",
       "        vertical-align: middle;\n",
       "    }\n",
       "\n",
       "    .dataframe tbody tr th {\n",
       "        vertical-align: top;\n",
       "    }\n",
       "\n",
       "    .dataframe thead th {\n",
       "        text-align: right;\n",
       "    }\n",
       "</style>\n",
       "<table border=\"1\" class=\"dataframe\">\n",
       "  <thead>\n",
       "    <tr style=\"text-align: right;\">\n",
       "      <th></th>\n",
       "      <th>0</th>\n",
       "      <th>1</th>\n",
       "      <th>2</th>\n",
       "      <th>3</th>\n",
       "      <th>4</th>\n",
       "      <th>5</th>\n",
       "      <th>6</th>\n",
       "    </tr>\n",
       "  </thead>\n",
       "  <tbody>\n",
       "    <tr>\n",
       "      <th>0</th>\n",
       "      <td>2013.250</td>\n",
       "      <td>16.2</td>\n",
       "      <td>2103.55500</td>\n",
       "      <td>3</td>\n",
       "      <td>24.96042</td>\n",
       "      <td>121.51462</td>\n",
       "      <td>25.6</td>\n",
       "    </tr>\n",
       "    <tr>\n",
       "      <th>1</th>\n",
       "      <td>2013.417</td>\n",
       "      <td>19.2</td>\n",
       "      <td>616.40040</td>\n",
       "      <td>3</td>\n",
       "      <td>24.97723</td>\n",
       "      <td>121.53767</td>\n",
       "      <td>39.6</td>\n",
       "    </tr>\n",
       "    <tr>\n",
       "      <th>2</th>\n",
       "      <td>2013.167</td>\n",
       "      <td>3.6</td>\n",
       "      <td>373.83890</td>\n",
       "      <td>10</td>\n",
       "      <td>24.98322</td>\n",
       "      <td>121.53765</td>\n",
       "      <td>61.9</td>\n",
       "    </tr>\n",
       "    <tr>\n",
       "      <th>3</th>\n",
       "      <td>2013.417</td>\n",
       "      <td>24.2</td>\n",
       "      <td>4605.74900</td>\n",
       "      <td>0</td>\n",
       "      <td>24.94684</td>\n",
       "      <td>121.49578</td>\n",
       "      <td>13.4</td>\n",
       "    </tr>\n",
       "    <tr>\n",
       "      <th>4</th>\n",
       "      <td>2013.333</td>\n",
       "      <td>1.7</td>\n",
       "      <td>329.97470</td>\n",
       "      <td>5</td>\n",
       "      <td>24.98254</td>\n",
       "      <td>121.54395</td>\n",
       "      <td>50.4</td>\n",
       "    </tr>\n",
       "    <tr>\n",
       "      <th>...</th>\n",
       "      <td>...</td>\n",
       "      <td>...</td>\n",
       "      <td>...</td>\n",
       "      <td>...</td>\n",
       "      <td>...</td>\n",
       "      <td>...</td>\n",
       "      <td>...</td>\n",
       "    </tr>\n",
       "    <tr>\n",
       "      <th>409</th>\n",
       "      <td>2013.250</td>\n",
       "      <td>3.8</td>\n",
       "      <td>383.86240</td>\n",
       "      <td>5</td>\n",
       "      <td>24.98085</td>\n",
       "      <td>121.54391</td>\n",
       "      <td>55.0</td>\n",
       "    </tr>\n",
       "    <tr>\n",
       "      <th>410</th>\n",
       "      <td>2013.333</td>\n",
       "      <td>3.9</td>\n",
       "      <td>49.66105</td>\n",
       "      <td>8</td>\n",
       "      <td>24.95836</td>\n",
       "      <td>121.53756</td>\n",
       "      <td>56.8</td>\n",
       "    </tr>\n",
       "    <tr>\n",
       "      <th>411</th>\n",
       "      <td>2013.000</td>\n",
       "      <td>13.6</td>\n",
       "      <td>4197.34900</td>\n",
       "      <td>0</td>\n",
       "      <td>24.93885</td>\n",
       "      <td>121.50383</td>\n",
       "      <td>13.0</td>\n",
       "    </tr>\n",
       "    <tr>\n",
       "      <th>412</th>\n",
       "      <td>2013.250</td>\n",
       "      <td>3.8</td>\n",
       "      <td>383.86240</td>\n",
       "      <td>5</td>\n",
       "      <td>24.98085</td>\n",
       "      <td>121.54391</td>\n",
       "      <td>60.7</td>\n",
       "    </tr>\n",
       "    <tr>\n",
       "      <th>413</th>\n",
       "      <td>2012.833</td>\n",
       "      <td>20.5</td>\n",
       "      <td>2185.12800</td>\n",
       "      <td>3</td>\n",
       "      <td>24.96322</td>\n",
       "      <td>121.51237</td>\n",
       "      <td>25.6</td>\n",
       "    </tr>\n",
       "  </tbody>\n",
       "</table>\n",
       "<p>414 rows × 7 columns</p>\n",
       "</div>"
      ],
      "text/plain": [
       "            0     1           2   3         4          5     6\n",
       "0    2013.250  16.2  2103.55500   3  24.96042  121.51462  25.6\n",
       "1    2013.417  19.2   616.40040   3  24.97723  121.53767  39.6\n",
       "2    2013.167   3.6   373.83890  10  24.98322  121.53765  61.9\n",
       "3    2013.417  24.2  4605.74900   0  24.94684  121.49578  13.4\n",
       "4    2013.333   1.7   329.97470   5  24.98254  121.54395  50.4\n",
       "..        ...   ...         ...  ..       ...        ...   ...\n",
       "409  2013.250   3.8   383.86240   5  24.98085  121.54391  55.0\n",
       "410  2013.333   3.9    49.66105   8  24.95836  121.53756  56.8\n",
       "411  2013.000  13.6  4197.34900   0  24.93885  121.50383  13.0\n",
       "412  2013.250   3.8   383.86240   5  24.98085  121.54391  60.7\n",
       "413  2012.833  20.5  2185.12800   3  24.96322  121.51237  25.6\n",
       "\n",
       "[414 rows x 7 columns]"
      ]
     },
     "execution_count": 5,
     "metadata": {},
     "output_type": "execute_result"
    }
   ],
   "source": [
    "realEstate"
   ]
  },
  {
   "cell_type": "code",
   "execution_count": 6,
   "metadata": {},
   "outputs": [],
   "source": [
    "ntrain = 350\n",
    "X = realEstate.loc[:ntrain,:5].values\n",
    "y = realEstate.loc[:ntrain,6:].values\n",
    "\n",
    "XTest = realEstate.loc[ntrain:,:5].values\n",
    "yTest = realEstate.loc[ntrain:,6:].values"
   ]
  },
  {
   "cell_type": "code",
   "execution_count": 7,
   "metadata": {},
   "outputs": [
    {
     "data": {
      "text/plain": [
       "(351, 6)"
      ]
     },
     "execution_count": 7,
     "metadata": {},
     "output_type": "execute_result"
    }
   ],
   "source": [
    "X.shape"
   ]
  },
  {
   "cell_type": "code",
   "execution_count": null,
   "metadata": {},
   "outputs": [],
   "source": []
  },
  {
   "cell_type": "code",
   "execution_count": 12,
   "metadata": {},
   "outputs": [
    {
     "data": {
      "text/plain": [
       "array([[-1.61905988e+04],\n",
       "       [ 5.57470256e+00],\n",
       "       [-2.60401978e-01],\n",
       "       [-4.58275209e-03],\n",
       "       [ 1.16228250e+00],\n",
       "       [ 2.05956269e+02],\n",
       "       [-1.08329305e+00]])"
      ]
     },
     "execution_count": 12,
     "metadata": {},
     "output_type": "execute_result"
    }
   ],
   "source": [
    "from regressionNormalEquation import normalEquationRegression\n",
    "from gradientDescentRegression import gradientDescentRegression\n",
    "\n",
    "n = normalEquationRegression(X,y)\n",
    "\n",
    "n.train()"
   ]
  },
  {
   "cell_type": "code",
   "execution_count": null,
   "metadata": {},
   "outputs": [],
   "source": [
    "yTestPredict = n.predict(XTest)"
   ]
  },
  {
   "cell_type": "code",
   "execution_count": null,
   "metadata": {},
   "outputs": [],
   "source": [
    "from sklearn.metrics import mean_squared_error\n",
    "from math import sqrt\n",
    "\n",
    "rms = sqrt(mean_squared_error(yTest, yTestPredict))"
   ]
  },
  {
   "cell_type": "code",
   "execution_count": null,
   "metadata": {},
   "outputs": [],
   "source": [
    "rms"
   ]
  },
  {
   "cell_type": "code",
   "execution_count": null,
   "metadata": {},
   "outputs": [],
   "source": []
  },
  {
   "cell_type": "code",
   "execution_count": null,
   "metadata": {},
   "outputs": [],
   "source": []
  },
  {
   "cell_type": "code",
   "execution_count": null,
   "metadata": {},
   "outputs": [],
   "source": []
  }
 ],
 "metadata": {
  "kernelspec": {
   "display_name": "Python 3",
   "language": "python",
   "name": "python3"
  },
  "language_info": {
   "codemirror_mode": {
    "name": "ipython",
    "version": 3
   },
   "file_extension": ".py",
   "mimetype": "text/x-python",
   "name": "python",
   "nbconvert_exporter": "python",
   "pygments_lexer": "ipython3",
   "version": "3.6.8"
  }
 },
 "nbformat": 4,
 "nbformat_minor": 2
}
