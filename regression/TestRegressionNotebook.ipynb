{
 "cells": [
  {
   "cell_type": "code",
   "execution_count": 1,
   "metadata": {},
   "outputs": [],
   "source": [
    "import numpy as np\n",
    "import pandas as pd"
   ]
  },
  {
   "cell_type": "code",
   "execution_count": 2,
   "metadata": {},
   "outputs": [],
   "source": [
    "realEstate = pd.read_csv(\"/home/soham/Coding/ML-from-scratch/dataset/realestate.csv\", header=None, index_col=False)"
   ]
  },
  {
   "cell_type": "code",
   "execution_count": 3,
   "metadata": {},
   "outputs": [],
   "source": [
    "realEstate = realEstate.sample(frac=1).reset_index(drop=True)"
   ]
  },
  {
   "cell_type": "code",
   "execution_count": 4,
   "metadata": {},
   "outputs": [
    {
     "data": {
      "text/html": [
       "<div>\n",
       "<style scoped>\n",
       "    .dataframe tbody tr th:only-of-type {\n",
       "        vertical-align: middle;\n",
       "    }\n",
       "\n",
       "    .dataframe tbody tr th {\n",
       "        vertical-align: top;\n",
       "    }\n",
       "\n",
       "    .dataframe thead th {\n",
       "        text-align: right;\n",
       "    }\n",
       "</style>\n",
       "<table border=\"1\" class=\"dataframe\">\n",
       "  <thead>\n",
       "    <tr style=\"text-align: right;\">\n",
       "      <th></th>\n",
       "      <th>0</th>\n",
       "      <th>1</th>\n",
       "      <th>2</th>\n",
       "      <th>3</th>\n",
       "      <th>4</th>\n",
       "      <th>5</th>\n",
       "      <th>6</th>\n",
       "    </tr>\n",
       "  </thead>\n",
       "  <tbody>\n",
       "    <tr>\n",
       "      <th>0</th>\n",
       "      <td>2013.000</td>\n",
       "      <td>13.6</td>\n",
       "      <td>4197.34900</td>\n",
       "      <td>0</td>\n",
       "      <td>24.93885</td>\n",
       "      <td>121.50383</td>\n",
       "      <td>13.0</td>\n",
       "    </tr>\n",
       "    <tr>\n",
       "      <th>1</th>\n",
       "      <td>2013.000</td>\n",
       "      <td>33.9</td>\n",
       "      <td>157.60520</td>\n",
       "      <td>7</td>\n",
       "      <td>24.96628</td>\n",
       "      <td>121.54196</td>\n",
       "      <td>41.5</td>\n",
       "    </tr>\n",
       "    <tr>\n",
       "      <th>2</th>\n",
       "      <td>2013.417</td>\n",
       "      <td>13.2</td>\n",
       "      <td>1712.63200</td>\n",
       "      <td>2</td>\n",
       "      <td>24.96412</td>\n",
       "      <td>121.51670</td>\n",
       "      <td>30.8</td>\n",
       "    </tr>\n",
       "    <tr>\n",
       "      <th>3</th>\n",
       "      <td>2012.917</td>\n",
       "      <td>2.0</td>\n",
       "      <td>1455.79800</td>\n",
       "      <td>1</td>\n",
       "      <td>24.95120</td>\n",
       "      <td>121.54900</td>\n",
       "      <td>25.6</td>\n",
       "    </tr>\n",
       "    <tr>\n",
       "      <th>4</th>\n",
       "      <td>2013.250</td>\n",
       "      <td>9.1</td>\n",
       "      <td>1402.01600</td>\n",
       "      <td>0</td>\n",
       "      <td>24.98569</td>\n",
       "      <td>121.52760</td>\n",
       "      <td>42.3</td>\n",
       "    </tr>\n",
       "    <tr>\n",
       "      <th>...</th>\n",
       "      <td>...</td>\n",
       "      <td>...</td>\n",
       "      <td>...</td>\n",
       "      <td>...</td>\n",
       "      <td>...</td>\n",
       "      <td>...</td>\n",
       "      <td>...</td>\n",
       "    </tr>\n",
       "    <tr>\n",
       "      <th>409</th>\n",
       "      <td>2012.750</td>\n",
       "      <td>13.5</td>\n",
       "      <td>4197.34900</td>\n",
       "      <td>0</td>\n",
       "      <td>24.93885</td>\n",
       "      <td>121.50383</td>\n",
       "      <td>18.6</td>\n",
       "    </tr>\n",
       "    <tr>\n",
       "      <th>410</th>\n",
       "      <td>2013.500</td>\n",
       "      <td>4.1</td>\n",
       "      <td>312.89630</td>\n",
       "      <td>5</td>\n",
       "      <td>24.95591</td>\n",
       "      <td>121.53956</td>\n",
       "      <td>51.7</td>\n",
       "    </tr>\n",
       "    <tr>\n",
       "      <th>411</th>\n",
       "      <td>2012.917</td>\n",
       "      <td>27.1</td>\n",
       "      <td>4412.76500</td>\n",
       "      <td>1</td>\n",
       "      <td>24.95032</td>\n",
       "      <td>121.49587</td>\n",
       "      <td>17.4</td>\n",
       "    </tr>\n",
       "    <tr>\n",
       "      <th>412</th>\n",
       "      <td>2012.833</td>\n",
       "      <td>5.9</td>\n",
       "      <td>90.45606</td>\n",
       "      <td>9</td>\n",
       "      <td>24.97433</td>\n",
       "      <td>121.54310</td>\n",
       "      <td>52.7</td>\n",
       "    </tr>\n",
       "    <tr>\n",
       "      <th>413</th>\n",
       "      <td>2013.417</td>\n",
       "      <td>6.4</td>\n",
       "      <td>90.45606</td>\n",
       "      <td>9</td>\n",
       "      <td>24.97433</td>\n",
       "      <td>121.54310</td>\n",
       "      <td>59.5</td>\n",
       "    </tr>\n",
       "  </tbody>\n",
       "</table>\n",
       "<p>414 rows × 7 columns</p>\n",
       "</div>"
      ],
      "text/plain": [
       "            0     1           2  3         4          5     6\n",
       "0    2013.000  13.6  4197.34900  0  24.93885  121.50383  13.0\n",
       "1    2013.000  33.9   157.60520  7  24.96628  121.54196  41.5\n",
       "2    2013.417  13.2  1712.63200  2  24.96412  121.51670  30.8\n",
       "3    2012.917   2.0  1455.79800  1  24.95120  121.54900  25.6\n",
       "4    2013.250   9.1  1402.01600  0  24.98569  121.52760  42.3\n",
       "..        ...   ...         ... ..       ...        ...   ...\n",
       "409  2012.750  13.5  4197.34900  0  24.93885  121.50383  18.6\n",
       "410  2013.500   4.1   312.89630  5  24.95591  121.53956  51.7\n",
       "411  2012.917  27.1  4412.76500  1  24.95032  121.49587  17.4\n",
       "412  2012.833   5.9    90.45606  9  24.97433  121.54310  52.7\n",
       "413  2013.417   6.4    90.45606  9  24.97433  121.54310  59.5\n",
       "\n",
       "[414 rows x 7 columns]"
      ]
     },
     "execution_count": 4,
     "metadata": {},
     "output_type": "execute_result"
    }
   ],
   "source": [
    "realEstate"
   ]
  },
  {
   "cell_type": "code",
   "execution_count": 5,
   "metadata": {},
   "outputs": [],
   "source": [
    "ntrain = 350\n",
    "X = realEstate.loc[:ntrain,:5].values\n",
    "y = realEstate.loc[:ntrain,6:].values\n",
    "\n",
    "XTest = realEstate.loc[ntrain:,:5].values\n",
    "yTest = realEstate.loc[ntrain:,6:].values"
   ]
  },
  {
   "cell_type": "code",
   "execution_count": 6,
   "metadata": {},
   "outputs": [
    {
     "data": {
      "text/plain": [
       "(351, 6)"
      ]
     },
     "execution_count": 6,
     "metadata": {},
     "output_type": "execute_result"
    }
   ],
   "source": [
    "X.shape"
   ]
  },
  {
   "cell_type": "code",
   "execution_count": null,
   "metadata": {},
   "outputs": [],
   "source": []
  },
  {
   "cell_type": "code",
   "execution_count": 7,
   "metadata": {},
   "outputs": [
    {
     "data": {
      "text/plain": [
       "array([[-1.22635000e+300],\n",
       "       [            -inf],\n",
       "       [-2.21509872e+301],\n",
       "       [            -inf],\n",
       "       [-4.38070915e+300],\n",
       "       [-3.06177405e+301],\n",
       "       [            -inf]])"
      ]
     },
     "execution_count": 7,
     "metadata": {},
     "output_type": "execute_result"
    }
   ],
   "source": [
    "from regressionNormalEquation import normalEquationRegression\n",
    "from gradientDescentRegression import gradientDescentRegression\n",
    "\n",
    "n = normalEquationRegression(X,y)\n",
    "gD = gradientDescentRegression(X,y,alpha=0.0001, numberIterations=100)\n",
    "\n",
    "n.train()\n",
    "gD.train()"
   ]
  },
  {
   "cell_type": "code",
   "execution_count": null,
   "metadata": {},
   "outputs": [],
   "source": [
    "yTestPredict = n.predict(XTest)"
   ]
  },
  {
   "cell_type": "code",
   "execution_count": null,
   "metadata": {},
   "outputs": [],
   "source": [
    "from sklearn.metrics import mean_squared_error\n",
    "from math import sqrt\n",
    "\n",
    "rms = sqrt(mean_squared_error(yTest, yTestPredict))"
   ]
  },
  {
   "cell_type": "code",
   "execution_count": null,
   "metadata": {},
   "outputs": [],
   "source": [
    "rms"
   ]
  },
  {
   "cell_type": "code",
   "execution_count": null,
   "metadata": {},
   "outputs": [],
   "source": []
  },
  {
   "cell_type": "code",
   "execution_count": null,
   "metadata": {},
   "outputs": [],
   "source": []
  },
  {
   "cell_type": "code",
   "execution_count": null,
   "metadata": {},
   "outputs": [],
   "source": []
  }
 ],
 "metadata": {
  "kernelspec": {
   "display_name": "Python 3",
   "language": "python",
   "name": "python3"
  },
  "language_info": {
   "codemirror_mode": {
    "name": "ipython",
    "version": 3
   },
   "file_extension": ".py",
   "mimetype": "text/x-python",
   "name": "python",
   "nbconvert_exporter": "python",
   "pygments_lexer": "ipython3",
   "version": "3.6.8"
  }
 },
 "nbformat": 4,
 "nbformat_minor": 2
}
